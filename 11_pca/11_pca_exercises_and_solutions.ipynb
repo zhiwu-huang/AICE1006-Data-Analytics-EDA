{
 "cells": [
  {
   "cell_type": "markdown",
   "id": "94e9be4f",
   "metadata": {},
   "source": [
    "## PCA Exercises and Solutions"
   ]
  },
  {
   "cell_type": "markdown",
   "id": "6f04d20b",
   "metadata": {},
   "source": [
    "### Exercise 1: Data Preprocessing for PCA"
   ]
  },
  {
   "cell_type": "markdown",
   "id": "de1c65b5",
   "metadata": {},
   "source": [
    "\n",
    "1. Load the provided dataset `data_pca.csv` into a Pandas DataFrame.\n",
    "2. Check for missing values and handle them appropriately.\n",
    "3. Standardize the dataset using `StandardScaler` from `sklearn.preprocessing`.\n",
    "    "
   ]
  },
  {
   "cell_type": "code",
   "execution_count": null,
   "id": "bdb0d8a0",
   "metadata": {},
   "outputs": [],
   "source": [
    "\n",
    "import pandas as pd\n",
    "from sklearn.preprocessing import StandardScaler\n",
    "\n",
    "# Step 1: Load the dataset\n",
    "df = pd.read_csv('data_pca.csv')\n",
    "\n",
    "# Step 2: Check for missing values\n",
    "missing_values = df.isnull().sum()\n",
    "\n",
    "# Handle missing values (e.g., fill with mean)\n",
    "df.fillna(df.mean(), inplace=True)\n",
    "\n",
    "# Step 3: Standardize the dataset\n",
    "scaler = StandardScaler()\n",
    "standardized_data = scaler.fit_transform(df)\n",
    "\n",
    "# Convert back to DataFrame for convenience\n",
    "df_standardized = pd.DataFrame(standardized_data, columns=df.columns)\n",
    "\n",
    "print(\"Standardized Data:\")\n",
    "print(df_standardized.head())\n",
    "    "
   ]
  },
  {
   "cell_type": "markdown",
   "id": "b50497d8",
   "metadata": {},
   "source": [
    "### Exercise 2: Applying PCA"
   ]
  },
  {
   "cell_type": "markdown",
   "id": "f5279928",
   "metadata": {},
   "source": [
    "\n",
    "1. Perform PCA on the standardized data to reduce the dimensionality to 2 principal components.\n",
    "2. Print the explained variance ratio for each component.\n",
    "3. Create a scatter plot of the data points in the reduced 2D space.\n",
    "    "
   ]
  },
  {
   "cell_type": "code",
   "execution_count": null,
   "id": "3f4b43f6",
   "metadata": {},
   "outputs": [],
   "source": [
    "\n",
    "from sklearn.decomposition import PCA\n",
    "import matplotlib.pyplot as plt\n",
    "\n",
    "# Step 1: Apply PCA\n",
    "pca = PCA(n_components=2)\n",
    "pca_data = pca.fit_transform(standardized_data)\n",
    "\n",
    "# Step 2: Print explained variance ratio\n",
    "explained_variance = pca.explained_variance_ratio_\n",
    "print(\"Explained Variance Ratio:\", explained_variance)\n",
    "\n",
    "# Step 3: Scatter plot\n",
    "plt.figure(figsize=(8, 6))\n",
    "plt.scatter(pca_data[:, 0], pca_data[:, 1], alpha=0.7, edgecolors='b')\n",
    "plt.title('PCA - 2 Principal Components')\n",
    "plt.xlabel('Principal Component 1')\n",
    "plt.ylabel('Principal Component 2')\n",
    "plt.grid()\n",
    "plt.show()\n",
    "    "
   ]
  },
  {
   "cell_type": "markdown",
   "id": "013ca1b6",
   "metadata": {},
   "source": [
    "### Exercise 3: Choosing the Number of Components"
   ]
  },
  {
   "cell_type": "markdown",
   "id": "c8e3b123",
   "metadata": {},
   "source": [
    "\n",
    "1. Perform PCA without specifying the number of components (use all components).\n",
    "2. Plot the cumulative explained variance ratio to decide the optimal number of components for 95% variance coverage.\n",
    "    "
   ]
  },
  {
   "cell_type": "code",
   "execution_count": null,
   "id": "52c68d03",
   "metadata": {},
   "outputs": [],
   "source": [
    "\n",
    "# Step 1: Perform PCA with all components\n",
    "pca_full = PCA()\n",
    "pca_full.fit(standardized_data)\n",
    "\n",
    "# Step 2: Plot cumulative explained variance ratio\n",
    "cumulative_variance = pca_full.explained_variance_ratio_.cumsum()\n",
    "\n",
    "plt.figure(figsize=(8, 6))\n",
    "plt.plot(range(1, len(cumulative_variance) + 1), cumulative_variance, marker='o', linestyle='--')\n",
    "plt.title('Cumulative Explained Variance')\n",
    "plt.xlabel('Number of Principal Components')\n",
    "plt.ylabel('Cumulative Explained Variance Ratio')\n",
    "plt.axhline(y=0.95, color='r', linestyle='-')\n",
    "plt.text(0.5, 0.96, '95% Threshold', color='red', fontsize=12)\n",
    "plt.grid()\n",
    "plt.show()\n",
    "    "
   ]
  },
  {
   "cell_type": "markdown",
   "id": "0560c0b9",
   "metadata": {},
   "source": [
    "### Exercise 4: PCA in Practice"
   ]
  },
  {
   "cell_type": "markdown",
   "id": "779b6098",
   "metadata": {},
   "source": [
    "\n",
    "1. Use PCA to reduce the dimensionality of a high-dimensional dataset (e.g., `digits` dataset from `sklearn.datasets`).\n",
    "2. Visualize the first two principal components of the data, using a color code to distinguish between classes.\n",
    "    "
   ]
  },
  {
   "cell_type": "code",
   "execution_count": null,
   "id": "e9d7b088",
   "metadata": {},
   "outputs": [],
   "source": [
    "\n",
    "from sklearn.datasets import load_digits\n",
    "from sklearn.preprocessing import StandardScaler\n",
    "\n",
    "# Step 1: Load the digits dataset\n",
    "digits = load_digits()\n",
    "X = digits.data\n",
    "y = digits.target\n",
    "\n",
    "# Step 2: Standardize the dataset\n",
    "scaler = StandardScaler()\n",
    "X_standardized = scaler.fit_transform(X)\n",
    "\n",
    "# Step 3: Apply PCA\n",
    "pca_digits = PCA(n_components=2)\n",
    "X_pca = pca_digits.fit_transform(X_standardized)\n",
    "\n",
    "# Step 4: Visualize the PCA result\n",
    "plt.figure(figsize=(8, 6))\n",
    "scatter = plt.scatter(X_pca[:, 0], X_pca[:, 1], c=y, cmap='viridis', alpha=0.7)\n",
    "plt.title('PCA of Digits Dataset')\n",
    "plt.xlabel('Principal Component 1')\n",
    "plt.ylabel('Principal Component 2')\n",
    "plt.colorbar(scatter, label='Digit Class')\n",
    "plt.grid()\n",
    "plt.show()\n",
    "    "
   ]
  }
 ],
 "metadata": {
  "kernelspec": {
   "display_name": "Python 3",
   "language": "python",
   "name": "python3"
  },
  "language_info": {
   "codemirror_mode": {
    "name": "ipython",
    "version": 3
   },
   "file_extension": ".py",
   "mimetype": "text/x-python",
   "name": "python",
   "nbconvert_exporter": "python",
   "pygments_lexer": "ipython3",
   "version": "3.8.5"
  }
 },
 "nbformat": 4,
 "nbformat_minor": 5
}
