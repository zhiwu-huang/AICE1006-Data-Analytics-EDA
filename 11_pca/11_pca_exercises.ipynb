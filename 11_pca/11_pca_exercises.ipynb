{
 "cells": [
  {
   "cell_type": "markdown",
   "id": "94e9be4f",
   "metadata": {},
   "source": [
    "## PCA Exercises and Solutions"
   ]
  },
  {
   "cell_type": "markdown",
   "id": "6f04d20b",
   "metadata": {},
   "source": [
    "### Exercise 1: Data Preprocessing for PCA"
   ]
  },
  {
   "cell_type": "markdown",
   "id": "de1c65b5",
   "metadata": {},
   "source": [
    "\n",
    "1. Load the provided dataset `data_pca.csv` into a Pandas DataFrame.\n",
    "2. Check for missing values and handle them appropriately.\n",
    "3. Standardize the dataset using `StandardScaler` from `sklearn.preprocessing`.\n",
    "    "
   ]
  },
  {
   "cell_type": "markdown",
   "id": "b50497d8",
   "metadata": {},
   "source": [
    "### Exercise 2: Applying PCA"
   ]
  },
  {
   "cell_type": "markdown",
   "id": "f5279928",
   "metadata": {},
   "source": [
    "\n",
    "1. Perform PCA on the standardized data to reduce the dimensionality to 2 principal components.\n",
    "2. Print the explained variance ratio for each component.\n",
    "3. Create a scatter plot of the data points in the reduced 2D space.\n",
    "    "
   ]
  },
  {
   "cell_type": "markdown",
   "id": "013ca1b6",
   "metadata": {},
   "source": [
    "### Exercise 3: Choosing the Number of Components"
   ]
  },
  {
   "cell_type": "markdown",
   "id": "c8e3b123",
   "metadata": {},
   "source": [
    "\n",
    "1. Perform PCA without specifying the number of components (use all components).\n",
    "2. Plot the cumulative explained variance ratio to decide the optimal number of components for 95% variance coverage.\n",
    "    "
   ]
  },
  {
   "cell_type": "markdown",
   "id": "0560c0b9",
   "metadata": {},
   "source": [
    "### Exercise 4: PCA in Practice"
   ]
  },
  {
   "cell_type": "markdown",
   "id": "779b6098",
   "metadata": {},
   "source": [
    "\n",
    "1. Use PCA to reduce the dimensionality of a high-dimensional dataset (e.g., `digits` dataset from `sklearn.datasets`).\n",
    "2. Visualize the first two principal components of the data, using a color code to distinguish between classes.\n",
    "    "
   ]
  }
 ],
 "metadata": {
  "kernelspec": {
   "display_name": "Python 3",
   "language": "python",
   "name": "python3"
  },
  "language_info": {
   "codemirror_mode": {
    "name": "ipython",
    "version": 3
   },
   "file_extension": ".py",
   "mimetype": "text/x-python",
   "name": "python",
   "nbconvert_exporter": "python",
   "pygments_lexer": "ipython3",
   "version": "3.8.5"
  }
 },
 "nbformat": 4,
 "nbformat_minor": 5
}
