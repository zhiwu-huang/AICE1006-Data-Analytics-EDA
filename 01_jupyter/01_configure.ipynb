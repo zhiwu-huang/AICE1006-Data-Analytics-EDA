{
 "cells": [
  {
   "cell_type": "code",
   "execution_count": 1,
   "metadata": {},
   "outputs": [],
   "source": [
    "# pip uninstall notebook traitlets jupyter\n",
    "# pip install --upgrade notebook==6.4.12 traitlets==5.9.0 jupyter jupyter_contrib_nbextensions\n",
    "\n",
    "# Jupyter notebook (not compatiable with notebook==6.4.12)\n",
    "\n",
    "# Jupyter lab (compatible, but need a kernel of python=3.9)"
   ]
  },
  {
   "cell_type": "code",
   "execution_count": null,
   "metadata": {},
   "outputs": [],
   "source": [
    "# jupyter nbconvert 01_jupyter/01_slides_jupyter.ipynb --to slides --post serve\n",
    "# jupyter nbconvert 01_jupyter/01_slides_jupyter.ipynb --to pdf\n",
    "# pandoc 01_jupyter/01_slides_jupyter.slides.html -o 01_slides_jupyter.pptx\n",
    "\n",
    "# jupyter nbconvert 08_data_engineering/08_slides_data_engineering.ipynb --to slides --post serve"
   ]
  },
  {
   "cell_type": "code",
   "execution_count": null,
   "metadata": {},
   "outputs": [],
   "source": [
    "# cd /Users/zhiwu/Library/CloudStorage/OneDrive-UniversityofSouthampton/3@Southampton/03-Education/01-Teaching/01-Modules/03-DataAnalytics/AICE1006-main\n",
    "# git init\n",
    "# git remote add origin https://github.com/zhiwu-huang/AICE1006-main.git\n",
    "# git add .\n",
    "# git commit -m \"Initial commit\"\n",
    "# git push -u origin main"
   ]
  }
 ],
 "metadata": {
  "kernelspec": {
   "display_name": "Python 3",
   "language": "python",
   "name": "python3"
  },
  "language_info": {
   "codemirror_mode": {
    "name": "ipython",
    "version": 3
   },
   "file_extension": ".py",
   "mimetype": "text/x-python",
   "name": "python",
   "nbconvert_exporter": "python",
   "pygments_lexer": "ipython3",
   "version": "3.10.10"
  }
 },
 "nbformat": 4,
 "nbformat_minor": 2
}
