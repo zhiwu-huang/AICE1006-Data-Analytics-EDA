{
 "cells": [
  {
   "cell_type": "markdown",
   "id": "6321dbaf",
   "metadata": {},
   "source": [
    "# Data Engineering – Exercises and Solutions\n",
    "\n",
    "## Lecture 8 - Feature Engineering and Vectorization"
   ]
  },
  {
   "cell_type": "markdown",
   "id": "1b74fcf4",
   "metadata": {},
   "source": [
    "\n",
    "### Exercise 1: Categorical Feature Encoding\n",
    "Given the dataset below:  \n",
    "```python\n",
    "data = [\n",
    "    {'price': 850000, 'rooms': 4, 'neighborhood': 'Queen Anne'},\n",
    "    {'price': 700000, 'rooms': 3, 'neighborhood': 'Fremont'},\n",
    "    {'price': 650000, 'rooms': 3, 'neighborhood': 'Wallingford'},\n",
    "    {'price': 600000, 'rooms': 2, 'neighborhood': 'Fremont'}\n",
    "]\n",
    "```\n",
    "1. Convert the 'neighborhood' categorical feature into numerical values using **One-Hot Encoding**.  \n",
    "2. Create a DataFrame that represents this transformation.  \n"
   ]
  },
  {
   "cell_type": "markdown",
   "id": "c174c410",
   "metadata": {},
   "source": [
    "\n",
    "### Exercise 2: Imputation of Missing Data\n",
    "Expand the previous dataset by introducing missing values:  \n",
    "```python\n",
    "data = [\n",
    "    {'price': 850000, 'rooms': 4, 'neighborhood': 'Queen Anne'},\n",
    "    {'price': 700000, 'rooms': 3, 'neighborhood': None},\n",
    "    {'price': None, 'rooms': 3, 'neighborhood': 'Wallingford'},\n",
    "    {'price': 600000, 'rooms': 2, 'neighborhood': 'Fremont'}\n",
    "]\n",
    "```  \n",
    "1. Impute missing values in the 'price' column using the **mean** of the available prices.  \n",
    "2. Impute missing values in the 'neighborhood' column by filling forward (using the last valid observation).  \n"
   ]
  },
  {
   "cell_type": "markdown",
   "id": "20b6376a",
   "metadata": {},
   "source": [
    "\n",
    "### Exercise 3: Feature Scaling\n",
    "For the imputed dataset:  \n",
    "1. Scale the 'price' and 'rooms' columns using **Min-Max Scaling**.  \n",
    "2. Create a new DataFrame representing the scaled features.  \n"
   ]
  },
  {
   "cell_type": "markdown",
   "id": "ae9fe5c5",
   "metadata": {},
   "source": [
    "\n",
    "### Exercise 4: Derived Features  \n",
    "1. Create a new feature called 'price_per_room' by dividing 'price' by 'rooms'.  \n",
    "2. Add this feature to the DataFrame and display the updated DataFrame.\n"
   ]
  },
  {
   "cell_type": "markdown",
   "id": "8078bea3",
   "metadata": {},
   "source": [
    "\n",
    "### Exercise 5: Binning  \n",
    "1. Bin the 'price' column into 3 categories: Low, Medium, High.  \n",
    "2. Use pandas' `cut` method to assign appropriate labels.  \n",
    "3. Display the resulting DataFrame with the new 'price_category' column.  \n"
   ]
  },
  {
   "cell_type": "markdown",
   "id": "3eb6e825",
   "metadata": {},
   "source": [
    "\n",
    "### Exercise 6: Polynomial Features  \n",
    "1. Generate polynomial features up to the 2nd degree for 'rooms' and 'price'.  \n",
    "2. Use `PolynomialFeatures` from `sklearn.preprocessing`.  \n",
    "3. Display the transformed DataFrame.\n"
   ]
  }
 ],
 "metadata": {
  "kernelspec": {
   "display_name": "Python 3",
   "language": "python",
   "name": "python3"
  },
  "language_info": {
   "name": "python",
   "version": "3.10.10"
  }
 },
 "nbformat": 4,
 "nbformat_minor": 5
}
