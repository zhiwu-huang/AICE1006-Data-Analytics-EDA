{
 "cells": [
  {
   "cell_type": "markdown",
   "id": "6321dbaf",
   "metadata": {},
   "source": [
    "# Data Engineering – Exercises and Solutions\n",
    "\n",
    "## Lecture 8 - Feature Engineering and Vectorization"
   ]
  },
  {
   "cell_type": "markdown",
   "id": "1b74fcf4",
   "metadata": {},
   "source": [
    "\n",
    "### Exercise 1: Categorical Feature Encoding\n",
    "Given the dataset below:  \n",
    "```python\n",
    "data = [\n",
    "    {'price': 850000, 'rooms': 4, 'neighborhood': 'Queen Anne'},\n",
    "    {'price': 700000, 'rooms': 3, 'neighborhood': 'Fremont'},\n",
    "    {'price': 650000, 'rooms': 3, 'neighborhood': 'Wallingford'},\n",
    "    {'price': 600000, 'rooms': 2, 'neighborhood': 'Fremont'}\n",
    "]\n",
    "```\n",
    "1. Convert the 'neighborhood' categorical feature into numerical values using **One-Hot Encoding**.  \n",
    "2. Create a DataFrame that represents this transformation.  \n"
   ]
  },
  {
   "cell_type": "code",
   "execution_count": null,
   "id": "00c828f0",
   "metadata": {},
   "outputs": [],
   "source": [
    "\n",
    "import pandas as pd\n",
    "\n",
    "data = [\n",
    "    {'price': 850000, 'rooms': 4, 'neighborhood': 'Queen Anne'},\n",
    "    {'price': 700000, 'rooms': 3, 'neighborhood': 'Fremont'},\n",
    "    {'price': 650000, 'rooms': 3, 'neighborhood': 'Wallingford'},\n",
    "    {'price': 600000, 'rooms': 2, 'neighborhood': 'Fremont'}\n",
    "]\n",
    "\n",
    "df = pd.DataFrame(data)\n",
    "encoded_df = pd.get_dummies(df, columns=['neighborhood'])\n",
    "encoded_df\n"
   ]
  },
  {
   "cell_type": "markdown",
   "id": "c174c410",
   "metadata": {},
   "source": [
    "\n",
    "### Exercise 2: Imputation of Missing Data\n",
    "Expand the previous dataset by introducing missing values:  \n",
    "```python\n",
    "data = [\n",
    "    {'price': 850000, 'rooms': 4, 'neighborhood': 'Queen Anne'},\n",
    "    {'price': 700000, 'rooms': 3, 'neighborhood': None},\n",
    "    {'price': None, 'rooms': 3, 'neighborhood': 'Wallingford'},\n",
    "    {'price': 600000, 'rooms': 2, 'neighborhood': 'Fremont'}\n",
    "]\n",
    "```  \n",
    "1. Impute missing values in the 'price' column using the **mean** of the available prices.  \n",
    "2. Impute missing values in the 'neighborhood' column by filling forward (using the last valid observation).  \n"
   ]
  },
  {
   "cell_type": "code",
   "execution_count": null,
   "id": "cf66af1a",
   "metadata": {},
   "outputs": [],
   "source": [
    "\n",
    "df.loc[2, 'price'] = None\n",
    "df.loc[1, 'neighborhood'] = None\n",
    "\n",
    "# Impute price\n",
    "df['price'].fillna(df['price'].mean(), inplace=True)\n",
    "\n",
    "# Fill forward for neighborhood\n",
    "df['neighborhood'].fillna(method='ffill', inplace=True)\n",
    "\n",
    "df\n"
   ]
  },
  {
   "cell_type": "markdown",
   "id": "20b6376a",
   "metadata": {},
   "source": [
    "\n",
    "### Exercise 3: Feature Scaling\n",
    "For the imputed dataset:  \n",
    "1. Scale the 'price' and 'rooms' columns using **Min-Max Scaling**.  \n",
    "2. Create a new DataFrame representing the scaled features.  \n"
   ]
  },
  {
   "cell_type": "code",
   "execution_count": null,
   "id": "5c8e379e",
   "metadata": {},
   "outputs": [],
   "source": [
    "\n",
    "from sklearn.preprocessing import MinMaxScaler\n",
    "\n",
    "scaler = MinMaxScaler()\n",
    "scaled_data = scaler.fit_transform(df[['price', 'rooms']])\n",
    "scaled_df = pd.DataFrame(scaled_data, columns=['scaled_price', 'scaled_rooms'])\n",
    "\n",
    "scaled_df\n"
   ]
  },
  {
   "cell_type": "markdown",
   "id": "ae9fe5c5",
   "metadata": {},
   "source": [
    "\n",
    "### Exercise 4: Derived Features  \n",
    "1. Create a new feature called 'price_per_room' by dividing 'price' by 'rooms'.  \n",
    "2. Add this feature to the DataFrame and display the updated DataFrame.\n"
   ]
  },
  {
   "cell_type": "code",
   "execution_count": null,
   "id": "2b663e33",
   "metadata": {},
   "outputs": [],
   "source": [
    "\n",
    "df['price_per_room'] = df['price'] / df['rooms']\n",
    "df\n"
   ]
  },
  {
   "cell_type": "markdown",
   "id": "8078bea3",
   "metadata": {},
   "source": [
    "\n",
    "### Exercise 5: Binning  \n",
    "1. Bin the 'price' column into 3 categories: Low, Medium, High.  \n",
    "2. Use pandas' `cut` method to assign appropriate labels.  \n",
    "3. Display the resulting DataFrame with the new 'price_category' column.  \n"
   ]
  },
  {
   "cell_type": "code",
   "execution_count": null,
   "id": "816e1194",
   "metadata": {},
   "outputs": [],
   "source": [
    "\n",
    "bins = [0, 650000, 750000, df['price'].max()]\n",
    "labels = ['Low', 'Medium', 'High']\n",
    "\n",
    "df['price_category'] = pd.cut(df['price'], bins=bins, labels=labels)\n",
    "df\n"
   ]
  },
  {
   "cell_type": "markdown",
   "id": "3eb6e825",
   "metadata": {},
   "source": [
    "\n",
    "### Exercise 6: Polynomial Features  \n",
    "1. Generate polynomial features up to the 2nd degree for 'rooms' and 'price'.  \n",
    "2. Use `PolynomialFeatures` from `sklearn.preprocessing`.  \n",
    "3. Display the transformed DataFrame.\n"
   ]
  },
  {
   "cell_type": "code",
   "execution_count": null,
   "id": "46ab44ff",
   "metadata": {},
   "outputs": [],
   "source": [
    "\n",
    "from sklearn.preprocessing import PolynomialFeatures\n",
    "\n",
    "poly = PolynomialFeatures(degree=2, include_bias=False)\n",
    "poly_features = poly.fit_transform(df[['rooms', 'price']])\n",
    "poly_df = pd.DataFrame(poly_features, columns=poly.get_feature_names_out(['rooms', 'price']))\n",
    "\n",
    "poly_df\n"
   ]
  }
 ],
 "metadata": {},
 "nbformat": 4,
 "nbformat_minor": 5
}
