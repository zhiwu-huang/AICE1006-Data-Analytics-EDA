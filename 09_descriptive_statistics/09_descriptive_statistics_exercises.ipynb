{
 "cells": [
  {
   "cell_type": "markdown",
   "id": "654ab91c",
   "metadata": {},
   "source": [
    "# Descriptive Statistics – Exercises and Solutions\n",
    "\n",
    "## Lecture 9"
   ]
  },
  {
   "cell_type": "markdown",
   "id": "924725df",
   "metadata": {},
   "source": [
    "\n",
    "### Exercise 1: Calculate Summary Statistics  \n",
    "1. Create a DataFrame with the following data:  \n",
    "```python\n",
    "data = {\n",
    "    'age': [23, 45, 31, 35, 28, 41, 50, 26, 33, 39],\n",
    "    'salary': [50000, 80000, 60000, 65000, 58000, 75000, 90000, 52000, 62000, 70000]\n",
    "}\n",
    "```  \n",
    "2. Calculate the mean, median, variance, and standard deviation for both 'age' and 'salary'.  \n",
    "3. Display the results.\n"
   ]
  },
  {
   "cell_type": "markdown",
   "id": "9e436fb8",
   "metadata": {},
   "source": [
    "\n",
    "### Exercise 2: Visualize Data  \n",
    "1. Plot histograms for the 'age' and 'salary' columns.  \n",
    "2. Create a box plot to identify outliers.  \n",
    "3. Display the visualizations.\n"
   ]
  }
 ],
 "metadata": {
  "language_info": {
   "name": "python"
  }
 },
 "nbformat": 4,
 "nbformat_minor": 5
}
