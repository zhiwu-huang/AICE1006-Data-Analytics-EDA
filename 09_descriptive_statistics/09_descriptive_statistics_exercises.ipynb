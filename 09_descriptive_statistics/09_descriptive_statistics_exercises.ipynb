{
 "cells": [
  {
   "cell_type": "markdown",
   "id": "654ab91c",
   "metadata": {},
   "source": [
    "# Descriptive Statistics – Exercises and Solutions\n",
    "\n",
    "## Lecture 9"
   ]
  },
  {
   "cell_type": "markdown",
   "id": "924725df",
   "metadata": {},
   "source": [
    "\n",
    "### Exercise 1: Calculate Summary Statistics  \n",
    "1. Create a DataFrame with the following data:  \n",
    "```python\n",
    "data = {\n",
    "    'age': [23, 45, 31, 35, 28, 41, 50, 26, 33, 39],\n",
    "    'salary': [50000, 80000, 60000, 65000, 58000, 75000, 90000, 52000, 62000, 70000]\n",
    "}\n",
    "```  \n",
    "2. Calculate the mean, median, variance, and standard deviation for both 'age' and 'salary'.  \n",
    "3. Display the results.\n"
   ]
  },
  {
   "cell_type": "code",
   "execution_count": null,
   "id": "868c4ddd",
   "metadata": {},
   "outputs": [],
   "source": [
    "\n",
    "import pandas as pd\n",
    "\n",
    "data = {\n",
    "    'age': [23, 45, 31, 35, 28, 41, 50, 26, 33, 39],\n",
    "    'salary': [50000, 80000, 60000, 65000, 58000, 75000, 90000, 52000, 62000, 70000]\n",
    "}\n",
    "\n",
    "df = pd.DataFrame(data)\n",
    "summary_stats = df.describe()\n",
    "variance = df.var()\n",
    "std_dev = df.std()\n",
    "\n",
    "print(\"Summary Statistics:\\n\", summary_stats)\n",
    "print(\"\\nVariance:\\n\", variance)\n",
    "print(\"\\nStandard Deviation:\\n\", std_dev)\n"
   ]
  },
  {
   "cell_type": "markdown",
   "id": "9e436fb8",
   "metadata": {},
   "source": [
    "\n",
    "### Exercise 2: Visualize Data  \n",
    "1. Plot histograms for the 'age' and 'salary' columns.  \n",
    "2. Create a box plot to identify outliers.  \n",
    "3. Display the visualizations.\n"
   ]
  },
  {
   "cell_type": "code",
   "execution_count": null,
   "id": "b26d54d8",
   "metadata": {},
   "outputs": [],
   "source": [
    "\n",
    "import matplotlib.pyplot as plt\n",
    "import seaborn as sns\n",
    "\n",
    "plt.figure(figsize=(12, 5))\n",
    "plt.subplot(1, 2, 1)\n",
    "sns.histplot(df['age'], kde=True, color='blue')\n",
    "plt.title('Age Distribution')\n",
    "\n",
    "plt.subplot(1, 2, 2)\n",
    "sns.histplot(df['salary'], kde=True, color='green')\n",
    "plt.title('Salary Distribution')\n",
    "\n",
    "plt.show()\n",
    "\n",
    "plt.figure()\n",
    "sns.boxplot(data=df[['age', 'salary']])\n",
    "plt.title('Box Plot of Age and Salary')\n",
    "plt.show()\n"
   ]
  }
 ],
 "metadata": {
  "language_info": {
   "name": "python"
  }
 },
 "nbformat": 4,
 "nbformat_minor": 5
}
