{
 "cells": [
  {
   "cell_type": "markdown",
   "id": "16e1ce42",
   "metadata": {},
   "source": [
    "# Clustering Exercises - k-Means\n",
    "This notebook contains exercises to practice clustering techniques, specifically focusing on k-Means clustering. Complete each task and refer to the clustering lecture for guidance."
   ]
  },
  {
   "cell_type": "markdown",
   "id": "6888b20c",
   "metadata": {},
   "source": [
    "## Exercise 1: Generate Synthetic Data\n",
    "1. Use the `make_blobs` function from `sklearn.datasets` to generate a dataset with 300 samples and 4 centers.\n",
    "2. Visualize the generated data using a scatter plot without applying any clustering.\n",
    "\n",
    "**Hint:** Use `n_features=2` to keep the data two-dimensional for easy visualization."
   ]
  },
  {
   "cell_type": "markdown",
   "id": "c81c077e",
   "metadata": {},
   "source": [
    "## Exercise 2: Apply k-Means Clustering\n",
    "1. Use `KMeans` from `sklearn.cluster` to cluster the generated data into 4 clusters.\n",
    "2. Fit the model to the data and predict cluster labels.\n",
    "3. Visualize the data again, this time coloring the points by their predicted cluster labels.\n",
    "\n",
    "**Hint:** Use `KMeans(n_clusters=4)`."
   ]
  },
  {
   "cell_type": "markdown",
   "id": "494bc786",
   "metadata": {},
   "source": [
    "## Exercise 3: Determine Optimal k using the Elbow Method\n",
    "1. Perform k-Means clustering for a range of `k` values (from 1 to 10).\n",
    "2. Record the inertia (sum of squared distances to the nearest cluster center) for each `k`.\n",
    "3. Plot the inertia values and determine the 'elbow point' where inertia starts to decrease less significantly.\n",
    "\n",
    "**Hint:** The elbow point typically indicates the optimal number of clusters."
   ]
  }
 ],
 "metadata": {
  "kernelspec": {
   "display_name": "Python 3",
   "language": "python",
   "name": "python3"
  },
  "language_info": {
   "codemirror_mode": {
    "name": "ipython",
    "version": 3
   },
   "file_extension": ".py",
   "mimetype": "text/x-python",
   "name": "python",
   "nbconvert_exporter": "python",
   "pygments_lexer": "ipython3",
   "version": "3.10.10"
  }
 },
 "nbformat": 4,
 "nbformat_minor": 5
}
